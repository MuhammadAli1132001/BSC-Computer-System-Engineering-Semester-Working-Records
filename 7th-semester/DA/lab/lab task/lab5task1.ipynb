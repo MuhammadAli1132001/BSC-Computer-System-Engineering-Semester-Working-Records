{
 "cells": [
  {
   "cell_type": "code",
   "execution_count": null,
   "metadata": {},
   "outputs": [
    {
     "ename": "",
     "evalue": "",
     "output_type": "error",
     "traceback": [
      "\u001b[1;31mFailed to start the Kernel. \n",
      "\u001b[1;31mERROR: Could not install packages due to an OSError: [Errno 2] No such file or directory: 'C:\\\\Users\\\\Muhammad Ali khan\\\\AppData\\\\Local\\\\Packages\\\\PythonSoftwareFoundation.Python.3.10_qbz5n2kfra8p0\\\\LocalCache\\\\local-packages\\\\Python310\\\\site-packages\\\\jedi\\\\third_party\\\\django-stubs\\\\django-stubs\\\\contrib\\\\contenttypes\\\\management\\\\commands\\\\remove_stale_contenttypes.pyi'\n",
      "\u001b[1;31mHINT: This error might have occurred since this system does not have Windows Long Path support enabled. You can find information on how to enable this at https://pip.pypa.io/warnings/enable-long-paths. \n",
      "\u001b[1;31mView Jupyter <a href='command:jupyter.viewOutput'>log</a> for further details."
     ]
    }
   ],
   "source": [
    "import numpy as np\n",
    "task1 = np.array([0, 1, 2, 3, 4, 5, 6, 7, 8, 9])\n",
    "print(\"**The List of Odd Numbers in this Array task1 is replace by -1's***\")\n",
    "for i in range(len(task1)):\n",
    "    if (task1[i] % 2 != 0):\n",
    "        task1[i] = -1\n",
    "        print(task1[i], end = \"  \")"
   ]
  }
 ],
 "metadata": {
  "kernelspec": {
   "display_name": "Python 3.10.8 64-bit (microsoft store)",
   "language": "python",
   "name": "python3"
  },
  "language_info": {
   "codemirror_mode": {
    "name": "ipython",
    "version": 3
   },
   "file_extension": ".py",
   "mimetype": "text/x-python",
   "name": "python",
   "nbconvert_exporter": "python",
   "pygments_lexer": "ipython3",
   "version": "3.10.8"
  },
  "orig_nbformat": 4,
  "vscode": {
   "interpreter": {
    "hash": "33ecd045d69baff020882b323834d5d5c93539af30a1136a8995d72ee6887b85"
   }
  }
 },
 "nbformat": 4,
 "nbformat_minor": 2
}
