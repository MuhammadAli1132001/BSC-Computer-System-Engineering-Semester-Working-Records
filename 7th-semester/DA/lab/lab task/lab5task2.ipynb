{
 "cells": [
  {
   "cell_type": "code",
   "execution_count": 10,
   "metadata": {},
   "outputs": [
    {
     "name": "stdout",
     "output_type": "stream",
     "text": [
      "**The positions of elements in x where its value is greater than the corresponding value in y are:\n",
      "1  2  4  5  6  7  8  "
     ]
    },
    {
     "ename": "IndexError",
     "evalue": "index 9 is out of bounds for axis 0 with size 9",
     "output_type": "error",
     "traceback": [
      "\u001b[1;31m---------------------------------------------------------------------------\u001b[0m",
      "\u001b[1;31mIndexError\u001b[0m                                Traceback (most recent call last)",
      "Cell \u001b[1;32mIn [10], line 25\u001b[0m\n\u001b[0;32m     23\u001b[0m \u001b[39mif\u001b[39;00m (x[\u001b[39m8\u001b[39m] \u001b[39m>\u001b[39m y[\u001b[39m8\u001b[39m] ):\n\u001b[0;32m     24\u001b[0m        \u001b[39mprint\u001b[39m(\u001b[39m8\u001b[39m, end \u001b[39m=\u001b[39m \u001b[39m\"\u001b[39m\u001b[39m  \u001b[39m\u001b[39m\"\u001b[39m)\n\u001b[1;32m---> 25\u001b[0m \u001b[39mif\u001b[39;00m (x[\u001b[39m9\u001b[39;49m] \u001b[39m>\u001b[39m y[\u001b[39m9\u001b[39m] ):\n\u001b[0;32m     26\u001b[0m        \u001b[39mprint\u001b[39m(\u001b[39m9\u001b[39m, end \u001b[39m=\u001b[39m \u001b[39m\"\u001b[39m\u001b[39m  \u001b[39m\u001b[39m\"\u001b[39m)\n\u001b[0;32m     27\u001b[0m \u001b[39mif\u001b[39;00m (x[\u001b[39m10\u001b[39m] \u001b[39m>\u001b[39m y[\u001b[39m10\u001b[39m] ):\n",
      "\u001b[1;31mIndexError\u001b[0m: index 9 is out of bounds for axis 0 with size 9"
     ]
    }
   ],
   "source": [
    "import numpy as np\n",
    "x = np.array([21, 64, 86, 22, 74, 55, 81, 79, 89])\n",
    "y = np.array([21, 7, 3, 45, 10, 29, 55, 4, 37, 18])\n",
    "\n",
    "print(\"**The positions of elements in x where its value is greater than the corresponding value in y are:\")\n",
    "\n",
    "if (x[0] > y[0] ):\n",
    "       print(0, end = \"  \")\n",
    "if (x[1] > y[1] ):\n",
    "       print(1, end = \"  \")\n",
    "if (x[2] > y[2] ):\n",
    "       print(2, end = \"  \")\n",
    "if (x[3] > y[3] ):\n",
    "       print(3, end = \"  \")\n",
    "if (x[4] > y[4] ):\n",
    "       print(4, end = \"  \")\n",
    "if (x[5] > y[5] ):\n",
    "       print(5, end = \"  \")\n",
    "if (x[6] > y[6] ):\n",
    "       print(6, end = \"  \")\n",
    "if (x[7] > y[7] ):\n",
    "       print(7, end = \"  \")\n",
    "if (x[8] > y[8] ):\n",
    "       print(8, end = \"  \")\n",
    "if (x[9] > y[9] ):\n",
    "       print(9, end = \"  \")\n",
    "if (x[10] > y[10] ):\n",
    "       print(10, end = \"  \")\n",
    "\n"
   ]
  }
 ],
 "metadata": {
  "kernelspec": {
   "display_name": "Python 3.10.8 64-bit",
   "language": "python",
   "name": "python3"
  },
  "language_info": {
   "codemirror_mode": {
    "name": "ipython",
    "version": 3
   },
   "file_extension": ".py",
   "mimetype": "text/x-python",
   "name": "python",
   "nbconvert_exporter": "python",
   "pygments_lexer": "ipython3",
   "version": "3.10.8"
  },
  "orig_nbformat": 4,
  "vscode": {
   "interpreter": {
    "hash": "d3e10ef16274dd72e574b8fa73b58450b957d8421a2901baded3cca26fcf5dda"
   }
  }
 },
 "nbformat": 4,
 "nbformat_minor": 2
}
