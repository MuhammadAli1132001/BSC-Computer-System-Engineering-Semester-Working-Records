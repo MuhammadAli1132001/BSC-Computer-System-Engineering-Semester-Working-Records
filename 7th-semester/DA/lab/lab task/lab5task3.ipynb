{
 "cells": [
  {
   "cell_type": "code",
   "execution_count": 11,
   "metadata": {},
   "outputs": [
    {
     "name": "stdout",
     "output_type": "stream",
     "text": [
      "[[0.16018459 0.20324377 0.9435845 ]\n",
      " [0.92906558 0.41272486 0.95481485]\n",
      " [0.56519867 0.14813409 0.06458727]\n",
      " ...\n",
      " [0.91453116 0.47329843 0.25786558]\n",
      " [0.58351556 0.65783607 0.93317595]\n",
      " [0.5595971  0.71824001 0.73926157]]\n"
     ]
    }
   ],
   "source": [
    "import numpy as np\n",
    "random_array = np.random.random((1000, 3))\n",
    "print(random_array)\n",
    "\n",
    "\n"
   ]
  }
 ],
 "metadata": {
  "kernelspec": {
   "display_name": "Python 3.10.8 64-bit",
   "language": "python",
   "name": "python3"
  },
  "language_info": {
   "codemirror_mode": {
    "name": "ipython",
    "version": 3
   },
   "file_extension": ".py",
   "mimetype": "text/x-python",
   "name": "python",
   "nbconvert_exporter": "python",
   "pygments_lexer": "ipython3",
   "version": "3.10.8"
  },
  "orig_nbformat": 4,
  "vscode": {
   "interpreter": {
    "hash": "d3e10ef16274dd72e574b8fa73b58450b957d8421a2901baded3cca26fcf5dda"
   }
  }
 },
 "nbformat": 4,
 "nbformat_minor": 2
}
