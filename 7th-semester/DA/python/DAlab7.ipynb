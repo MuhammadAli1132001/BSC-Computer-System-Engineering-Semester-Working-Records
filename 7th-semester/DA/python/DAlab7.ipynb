{
 "cells": [
  {
   "cell_type": "code",
   "execution_count": null,
   "id": "e5405159",
   "metadata": {},
   "outputs": [],
   "source": [
    "import pandas as pd"
   ]
  },
  {
   "cell_type": "code",
   "execution_count": null,
   "id": "25e12cee",
   "metadata": {},
   "outputs": [],
   "source": [
    "covid_df = pd.read_csv('italy-covid-daywise.csv')"
   ]
  },
  {
   "cell_type": "code",
   "execution_count": null,
   "id": "9953240e",
   "metadata": {},
   "outputs": [],
   "source": [
    "type(covid_df)"
   ]
  },
  {
   "cell_type": "code",
   "execution_count": null,
   "id": "7fab9e94",
   "metadata": {},
   "outputs": [],
   "source": [
    "covid_df"
   ]
  },
  {
   "cell_type": "code",
   "execution_count": null,
   "id": "a1e6ef94",
   "metadata": {},
   "outputs": [],
   "source": [
    "covid_df.info()"
   ]
  },
  {
   "cell_type": "code",
   "execution_count": null,
   "id": "5c885ae2",
   "metadata": {},
   "outputs": [],
   "source": [
    "covid_df.describe()"
   ]
  },
  {
   "cell_type": "code",
   "execution_count": null,
   "id": "a80525f3",
   "metadata": {},
   "outputs": [],
   "source": [
    "covid_df.columns"
   ]
  },
  {
   "cell_type": "code",
   "execution_count": null,
   "id": "822ff181",
   "metadata": {},
   "outputs": [],
   "source": [
    "covid_df.shape"
   ]
  },
  {
   "cell_type": "code",
   "execution_count": null,
   "id": "1574ec65",
   "metadata": {},
   "outputs": [],
   "source": [
    "covid_df['new_cases']"
   ]
  },
  {
   "cell_type": "code",
   "execution_count": null,
   "id": "01d33533",
   "metadata": {},
   "outputs": [],
   "source": [
    "type(covid_df['new_cases'])"
   ]
  },
  {
   "cell_type": "code",
   "execution_count": null,
   "id": "153db4ed",
   "metadata": {},
   "outputs": [],
   "source": [
    "covid_df['new_cases'][246]"
   ]
  },
  {
   "cell_type": "code",
   "execution_count": null,
   "id": "5ff4b139",
   "metadata": {},
   "outputs": [],
   "source": [
    "covid_df['new_tests'][240]"
   ]
  },
  {
   "cell_type": "code",
   "execution_count": null,
   "id": "28a3cc39",
   "metadata": {},
   "outputs": [],
   "source": [
    "covid_df.at[246, 'new_cases']"
   ]
  },
  {
   "cell_type": "code",
   "execution_count": null,
   "id": "8b18409c",
   "metadata": {},
   "outputs": [],
   "source": [
    "covid_df.at[240, 'new_tests']"
   ]
  },
  {
   "cell_type": "code",
   "execution_count": null,
   "id": "42ea0b22",
   "metadata": {},
   "outputs": [],
   "source": [
    "covid_df.new_cases"
   ]
  },
  {
   "cell_type": "code",
   "execution_count": null,
   "id": "64b69d33",
   "metadata": {},
   "outputs": [],
   "source": [
    "cases_df = covid_df[['date', 'new_cases']]\n",
    "cases_df"
   ]
  },
  {
   "cell_type": "code",
   "execution_count": null,
   "id": "88aea570",
   "metadata": {},
   "outputs": [],
   "source": [
    "covid_df_copy = covid_df.copy()"
   ]
  },
  {
   "cell_type": "code",
   "execution_count": null,
   "id": "2489a260",
   "metadata": {},
   "outputs": [],
   "source": [
    "covid_df.loc[243]"
   ]
  },
  {
   "cell_type": "code",
   "execution_count": null,
   "id": "1c4dc7e3",
   "metadata": {},
   "outputs": [],
   "source": [
    "type(covid_df.loc[243])"
   ]
  },
  {
   "cell_type": "code",
   "execution_count": null,
   "id": "43ae7e51",
   "metadata": {},
   "outputs": [],
   "source": [
    "covid_df.head(5)"
   ]
  },
  {
   "cell_type": "code",
   "execution_count": null,
   "id": "6c99f22b",
   "metadata": {},
   "outputs": [],
   "source": [
    "covid_df.tail(4)"
   ]
  },
  {
   "cell_type": "code",
   "execution_count": null,
   "id": "f12cac8a",
   "metadata": {},
   "outputs": [],
   "source": [
    "covid_df.at[0, 'new_tests']"
   ]
  },
  {
   "cell_type": "code",
   "execution_count": null,
   "id": "ad0636a7",
   "metadata": {},
   "outputs": [],
   "source": [
    "covid_df.new_tests.first_valid_index()"
   ]
  },
  {
   "cell_type": "code",
   "execution_count": null,
   "id": "ca3d55e0",
   "metadata": {},
   "outputs": [],
   "source": [
    "covid_df.loc[108:113]"
   ]
  },
  {
   "cell_type": "code",
   "execution_count": null,
   "id": "e13ad4c6",
   "metadata": {},
   "outputs": [],
   "source": [
    "covid_df.sample(10)"
   ]
  },
  {
   "cell_type": "code",
   "execution_count": null,
   "id": "92f5d2a3",
   "metadata": {},
   "outputs": [],
   "source": [
    "import pandas as pd\n",
    "import matplotlib.pyplot as plt\n",
    "covid_df = pd.read_csv('italy-covid-daywise.csv')\n",
    "newt_cases = covid_df['new_cases'].sum()\n",
    "t_deaths = covid_df['new_deaths'].sum()\n",
    "newt_test = covid_df['new_tests'].sum()\n",
    "\n",
    "ratio = (t_deaths / newt_cases)*100\n",
    "print('total no of death in itlay ',ratio)\n",
    "initial_test = 935310\n",
    "t_cases = (initial_test + newt_test)\n",
    "print('total cases in itlay ',t_cases)\n",
    "t_newcases = covid_df['new_cases']\n",
    "positivety = ( newt_cases /t_cases )*100\n",
    "print('positivety in itlay ',positivety)\n"
   ]
  },
  {
   "cell_type": "code",
   "execution_count": 3,
   "id": "2f74dc81",
   "metadata": {},
   "outputs": [
    {
     "ename": "KeyError",
     "evalue": "'month'",
     "output_type": "error",
     "traceback": [
      "\u001b[1;31m---------------------------------------------------------------------------\u001b[0m",
      "\u001b[1;31mKeyError\u001b[0m                                  Traceback (most recent call last)",
      "Cell \u001b[1;32mIn[3], line 7\u001b[0m\n\u001b[0;32m      5\u001b[0m d \u001b[39m=\u001b[39m covid_df\u001b[39m.\u001b[39mdate\n\u001b[0;32m      6\u001b[0m d\n\u001b[1;32m----> 7\u001b[0m data2 \u001b[39m=\u001b[39m d\u001b[39m.\u001b[39;49mgroupby(\u001b[39m'\u001b[39;49m\u001b[39mmonth\u001b[39;49m\u001b[39m'\u001b[39;49m)\u001b[39m.\u001b[39msum()\n",
      "File \u001b[1;32mc:\\Users\\Muhammad Ali khan\\AppData\\Local\\Programs\\Python\\Python311\\Lib\\site-packages\\pandas\\core\\series.py:2076\u001b[0m, in \u001b[0;36mSeries.groupby\u001b[1;34m(self, by, axis, level, as_index, sort, group_keys, squeeze, observed, dropna)\u001b[0m\n\u001b[0;32m   2073\u001b[0m     \u001b[39mraise\u001b[39;00m \u001b[39mTypeError\u001b[39;00m(\u001b[39m\"\u001b[39m\u001b[39mYou have to supply one of \u001b[39m\u001b[39m'\u001b[39m\u001b[39mby\u001b[39m\u001b[39m'\u001b[39m\u001b[39m and \u001b[39m\u001b[39m'\u001b[39m\u001b[39mlevel\u001b[39m\u001b[39m'\u001b[39m\u001b[39m\"\u001b[39m)\n\u001b[0;32m   2074\u001b[0m axis \u001b[39m=\u001b[39m \u001b[39mself\u001b[39m\u001b[39m.\u001b[39m_get_axis_number(axis)\n\u001b[1;32m-> 2076\u001b[0m \u001b[39mreturn\u001b[39;00m SeriesGroupBy(\n\u001b[0;32m   2077\u001b[0m     obj\u001b[39m=\u001b[39;49m\u001b[39mself\u001b[39;49m,\n\u001b[0;32m   2078\u001b[0m     keys\u001b[39m=\u001b[39;49mby,\n\u001b[0;32m   2079\u001b[0m     axis\u001b[39m=\u001b[39;49maxis,\n\u001b[0;32m   2080\u001b[0m     level\u001b[39m=\u001b[39;49mlevel,\n\u001b[0;32m   2081\u001b[0m     as_index\u001b[39m=\u001b[39;49mas_index,\n\u001b[0;32m   2082\u001b[0m     sort\u001b[39m=\u001b[39;49msort,\n\u001b[0;32m   2083\u001b[0m     group_keys\u001b[39m=\u001b[39;49mgroup_keys,\n\u001b[0;32m   2084\u001b[0m     squeeze\u001b[39m=\u001b[39;49msqueeze,\n\u001b[0;32m   2085\u001b[0m     observed\u001b[39m=\u001b[39;49mobserved,\n\u001b[0;32m   2086\u001b[0m     dropna\u001b[39m=\u001b[39;49mdropna,\n\u001b[0;32m   2087\u001b[0m )\n",
      "File \u001b[1;32mc:\\Users\\Muhammad Ali khan\\AppData\\Local\\Programs\\Python\\Python311\\Lib\\site-packages\\pandas\\core\\groupby\\groupby.py:959\u001b[0m, in \u001b[0;36mGroupBy.__init__\u001b[1;34m(self, obj, keys, axis, level, grouper, exclusions, selection, as_index, sort, group_keys, squeeze, observed, mutated, dropna)\u001b[0m\n\u001b[0;32m    956\u001b[0m \u001b[39mif\u001b[39;00m grouper \u001b[39mis\u001b[39;00m \u001b[39mNone\u001b[39;00m:\n\u001b[0;32m    957\u001b[0m     \u001b[39mfrom\u001b[39;00m \u001b[39mpandas\u001b[39;00m\u001b[39m.\u001b[39;00m\u001b[39mcore\u001b[39;00m\u001b[39m.\u001b[39;00m\u001b[39mgroupby\u001b[39;00m\u001b[39m.\u001b[39;00m\u001b[39mgrouper\u001b[39;00m \u001b[39mimport\u001b[39;00m get_grouper\n\u001b[1;32m--> 959\u001b[0m     grouper, exclusions, obj \u001b[39m=\u001b[39m get_grouper(\n\u001b[0;32m    960\u001b[0m         obj,\n\u001b[0;32m    961\u001b[0m         keys,\n\u001b[0;32m    962\u001b[0m         axis\u001b[39m=\u001b[39;49maxis,\n\u001b[0;32m    963\u001b[0m         level\u001b[39m=\u001b[39;49mlevel,\n\u001b[0;32m    964\u001b[0m         sort\u001b[39m=\u001b[39;49msort,\n\u001b[0;32m    965\u001b[0m         observed\u001b[39m=\u001b[39;49mobserved,\n\u001b[0;32m    966\u001b[0m         mutated\u001b[39m=\u001b[39;49m\u001b[39mself\u001b[39;49m\u001b[39m.\u001b[39;49mmutated,\n\u001b[0;32m    967\u001b[0m         dropna\u001b[39m=\u001b[39;49m\u001b[39mself\u001b[39;49m\u001b[39m.\u001b[39;49mdropna,\n\u001b[0;32m    968\u001b[0m     )\n\u001b[0;32m    970\u001b[0m \u001b[39mself\u001b[39m\u001b[39m.\u001b[39mobj \u001b[39m=\u001b[39m obj\n\u001b[0;32m    971\u001b[0m \u001b[39mself\u001b[39m\u001b[39m.\u001b[39maxis \u001b[39m=\u001b[39m obj\u001b[39m.\u001b[39m_get_axis_number(axis)\n",
      "File \u001b[1;32mc:\\Users\\Muhammad Ali khan\\AppData\\Local\\Programs\\Python\\Python311\\Lib\\site-packages\\pandas\\core\\groupby\\grouper.py:888\u001b[0m, in \u001b[0;36mget_grouper\u001b[1;34m(obj, key, axis, level, sort, observed, mutated, validate, dropna)\u001b[0m\n\u001b[0;32m    886\u001b[0m         in_axis, level, gpr \u001b[39m=\u001b[39m \u001b[39mFalse\u001b[39;00m, gpr, \u001b[39mNone\u001b[39;00m\n\u001b[0;32m    887\u001b[0m     \u001b[39melse\u001b[39;00m:\n\u001b[1;32m--> 888\u001b[0m         \u001b[39mraise\u001b[39;00m \u001b[39mKeyError\u001b[39;00m(gpr)\n\u001b[0;32m    889\u001b[0m \u001b[39melif\u001b[39;00m \u001b[39misinstance\u001b[39m(gpr, Grouper) \u001b[39mand\u001b[39;00m gpr\u001b[39m.\u001b[39mkey \u001b[39mis\u001b[39;00m \u001b[39mnot\u001b[39;00m \u001b[39mNone\u001b[39;00m:\n\u001b[0;32m    890\u001b[0m     \u001b[39m# Add key to exclusions\u001b[39;00m\n\u001b[0;32m    891\u001b[0m     exclusions\u001b[39m.\u001b[39madd(gpr\u001b[39m.\u001b[39mkey)\n",
      "\u001b[1;31mKeyError\u001b[0m: 'month'"
     ]
    }
   ],
   "source": [
    "import pandas as pd\n",
    "import matplotlib.pyplot as plt\n",
    "covid_df = pd.read_csv('italy-covid-daywise.csv')\n",
    "import matplotlib.pyplot as plt\n",
    "d = covid_df.date\n",
    "d\n",
    "data_2 = data_2.groupby('month').sum()"
   ]
  },
  {
   "cell_type": "code",
   "execution_count": null,
   "id": "a7bbe788",
   "metadata": {},
   "outputs": [],
   "source": [
    "c = covid_df.new_cases\n",
    "c"
   ]
  },
  {
   "cell_type": "code",
   "execution_count": null,
   "id": "dff22a9d",
   "metadata": {},
   "outputs": [],
   "source": [
    "plt.plot(data['data'],data['new_cases'])\n",
    "plt.plot(['date','new_deaths'])\n",
    "plt.xlabel('days-wise')\n",
    "plt.ylabel('newt_cases')"
   ]
  }
 ],
 "metadata": {
  "kernelspec": {
   "display_name": "Python 3.11.0 64-bit",
   "language": "python",
   "name": "python3"
  },
  "language_info": {
   "codemirror_mode": {
    "name": "ipython",
    "version": 3
   },
   "file_extension": ".py",
   "mimetype": "text/x-python",
   "name": "python",
   "nbconvert_exporter": "python",
   "pygments_lexer": "ipython3",
   "version": "3.11.0 (main, Oct 24 2022, 18:26:48) [MSC v.1933 64 bit (AMD64)]"
  },
  "vscode": {
   "interpreter": {
    "hash": "7d0c8218788dc8dbd65e3103d30cb0d10386f171627571ab1cd9e9954111b535"
   }
  }
 },
 "nbformat": 4,
 "nbformat_minor": 5
}
