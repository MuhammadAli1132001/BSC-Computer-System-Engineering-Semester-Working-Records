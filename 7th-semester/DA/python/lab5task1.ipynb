{
 "cells": [
  {
   "cell_type": "code",
   "execution_count": 1,
   "metadata": {},
   "outputs": [
    {
     "name": "stdout",
     "output_type": "stream",
     "text": [
      "**The List of Odd Numbers in this Array task1 is replace by -1's***\n",
      "-1  -1  -1  -1  -1  "
     ]
    }
   ],
   "source": [
    "import numpy as np\n",
    "task1 = np.array([0, 1, 2, 3, 4, 5, 6, 7, 8, 9])\n",
    "print(\"**The List of Odd Numbers in this Array task1 is replace by -1's***\")\n",
    "for i in range(len(task1)):\n",
    "    if (task1[i] % 2 != 0):\n",
    "        task1[i] = -1\n",
    "        print(task1[i], end = \"  \")"
   ]
  }
 ],
 "metadata": {
  "kernelspec": {
   "display_name": "Python 3.11.0 64-bit",
   "language": "python",
   "name": "python3"
  },
  "language_info": {
   "codemirror_mode": {
    "name": "ipython",
    "version": 3
   },
   "file_extension": ".py",
   "mimetype": "text/x-python",
   "name": "python",
   "nbconvert_exporter": "python",
   "pygments_lexer": "ipython3",
   "version": "3.11.0 (main, Oct 24 2022, 18:26:48) [MSC v.1933 64 bit (AMD64)]"
  },
  "orig_nbformat": 4,
  "vscode": {
   "interpreter": {
    "hash": "7d0c8218788dc8dbd65e3103d30cb0d10386f171627571ab1cd9e9954111b535"
   }
  }
 },
 "nbformat": 4,
 "nbformat_minor": 2
}
