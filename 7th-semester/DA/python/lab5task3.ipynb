{
 "cells": [
  {
   "cell_type": "code",
   "execution_count": null,
   "metadata": {},
   "outputs": [],
   "source": [
    "import numpy as np\n",
    "random_array = np.random.rand(1000, 3)\n",
    "random_array\n",
    "new_mean= np.mean(random_array, axis = 1)\n",
    "a =[]\n",
    "for row in random_array:\n",
    "    mean = row.mean()\n",
    "    a.append(mean)\n",
    "    c = np.concatenate((random_array, m.reshape(1000,1)), axis = 1 )\n",
    "new_mean = np.savetxt(\"another.csv\",c, header = \"num1, num2, num3, average\", delimiter = \",\", fmt =\"%f\")\n",
    "new_mean"
   ]
  },
  {
   "cell_type": "code",
   "execution_count": null,
   "metadata": {},
   "outputs": [],
   "source": [
    "ran = np.random.random_integers(0,50,50)\n",
    "t = tuple(ran)\n",
    "t\n",
    "a=[]\n",
    "if (t/7==0):\n",
    "    a = [t]\n",
    "s= np.save.txt(\"hdfile.csv\")"
   ]
  }
 ],
 "metadata": {
  "kernelspec": {
   "display_name": "Python 3.11.0 64-bit",
   "language": "python",
   "name": "python3"
  },
  "language_info": {
   "codemirror_mode": {
    "name": "ipython",
    "version": 3
   },
   "file_extension": ".py",
   "mimetype": "text/x-python",
   "name": "python",
   "nbconvert_exporter": "python",
   "pygments_lexer": "ipython3",
   "version": "3.11.0 (main, Oct 24 2022, 18:26:48) [MSC v.1933 64 bit (AMD64)]"
  },
  "orig_nbformat": 4,
  "vscode": {
   "interpreter": {
    "hash": "7d0c8218788dc8dbd65e3103d30cb0d10386f171627571ab1cd9e9954111b535"
   }
  }
 },
 "nbformat": 4,
 "nbformat_minor": 2
}
