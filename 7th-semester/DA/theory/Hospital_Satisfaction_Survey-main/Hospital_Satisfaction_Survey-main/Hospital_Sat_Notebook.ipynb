{
 "cells": [
  {
   "cell_type": "markdown",
   "metadata": {},
   "source": [
    "## **Hospitals Satisfaction Survey - 2016 🏥**"
   ]
  },
  {
   "cell_type": "markdown",
   "metadata": {},
   "source": [
    "#### In this dataset we have the results of a survey conducted at hospitals in Israel 2016. It includes the responses of around 11,100 patients who were hospitalized at the Surgical Ward, Internal Ward and the rest excluding those who were in the Female , Rehab, ICU Wards. \n",
    "#### *The dataset can be found on this link* : https://data.gov.il/dataset/satisfaction-hosp-general2016"
   ]
  },
  {
   "cell_type": "markdown",
   "metadata": {},
   "source": [
    "##### Steps for our project :\n",
    "- Go to the original excel file and make some changes before moving to work here.\n",
    "- Get our data loaded in and take a look to see what we are working with.\n",
    "- Clean the data and transform it into the format we see fit for use later.\n",
    "- Run some EDA and gain some insights.\n",
    "- Visualize our data and then build a dashboard using Tableau."
   ]
  },
  {
   "cell_type": "markdown",
   "metadata": {},
   "source": [
    "#### **Step I : Make some changes to our excel file.**"
   ]
  },
  {
   "cell_type": "markdown",
   "metadata": {},
   "source": [
    "##### *After looking at the excel file it had 3 sheets: one with the data itself, another sheet that offers some explanation about what the column is about and the last one offers interpretation about the answers the patients submitted, feel free to take a look*.\n",
    "##### *The only thing I did was delete a bunch of columns and rename some others and those changes are in a seperate sheet that I called 'modified', so I don't mess the raw data. More on that I will cover in a separate Medium post.*"
   ]
  },
  {
   "cell_type": "markdown",
   "metadata": {},
   "source": [
    "#### **Step II : Load our data and take a look.**"
   ]
  },
  {
   "cell_type": "markdown",
   "metadata": {},
   "source": [
    "##### Go to the link provided above and download the dataset. Then, add it to our project directory after making changes with the excel file."
   ]
  },
  {
   "cell_type": "code",
   "execution_count": null,
   "metadata": {},
   "outputs": [],
   "source": [
    "# Let's check the raw data first: \n",
    "\n",
    "import pandas as pd\n",
    "\n",
    "raw = pd.read_excel('satisfaction-hosp-general2016.xls', sheet_name='raw')\n",
    "raw"
   ]
  },
  {
   "cell_type": "markdown",
   "metadata": {},
   "source": [
    "##### Yeah I know, too much columns, but rest assured, I took care of that. Those who don't speak Hebrew shouldn't lose hope, yet. I will transform our data to English as we go along."
   ]
  },
  {
   "cell_type": "code",
   "execution_count": null,
   "metadata": {},
   "outputs": [],
   "source": [
    "# Now let's see the modified version after deleting some columns.\n",
    "\n",
    "hosp_sat = pd.read_excel('satisfaction-hosp-general2016.xls', sheet_name='modified')\n",
    "hosp_sat"
   ]
  },
  {
   "cell_type": "markdown",
   "metadata": {},
   "source": [
    "##### Yes what you see is correct. We went from 143 columns to 48 columns. Pretty neat.\n",
    "##### So as we see, there are some columns about the patients and hospitals themselves like gender, which hospital is it, ward, language , age.. and we also have the responses they gave to around 37 questions. Looks straightforward to me. Now that we know with which kind of data we work with, let's start cleaning ! "
   ]
  },
  {
   "cell_type": "markdown",
   "metadata": {},
   "source": [
    "#### **Step III: Clean and Transform the data.**"
   ]
  },
  {
   "cell_type": "code",
   "execution_count": null,
   "metadata": {},
   "outputs": [],
   "source": [
    "hosp_sat.info()"
   ]
  },
  {
   "cell_type": "markdown",
   "metadata": {},
   "source": [
    "##### Looking at the info we got above, we need to work on these :\n",
    "- Change the datatypes of code_hospital, Miyun_or_Electiv, CHRONIC_2, HEALTH_STATUS, Q3_G, q31_G and  KUPAT_HOLIM to 'object'. The reason for it is that if we look at the values sheet in the excel file all the possible answers for these should be numbers that represent a certain answer. We also need to change to object so it will be easier later when working with Tableau and plotting the values.\n",
    "\n",
    "- Deal with the null values in the following columns: Miyun_or_Electiv, CHRONIC_2, HEALTH_STATUS, Q3_G, q31_G, KUPAT_HOLIM."
   ]
  },
  {
   "cell_type": "code",
   "execution_count": null,
   "metadata": {},
   "outputs": [],
   "source": [
    "# Firstly, let's deal with the null values. How many null values do each of the columns above contain ?\n",
    "\n",
    "null_columns = ['Miyun_or_Electiv', 'CHRONIC_2', 'HEALTH_STATUS', 'Q3_G', 'q31_G', 'KUPAT_HOLIM']\n",
    "\n",
    "for null_column in null_columns:\n",
    "    print(f\"{null_column} column has {hosp_sat[null_column].isnull().sum()} null values.\")"
   ]
  },
  {
   "cell_type": "code",
   "execution_count": null,
   "metadata": {},
   "outputs": [],
   "source": [
    "# Before starting dealing with the NaN's, let's see the different unique values each of them has:\n",
    "\n",
    "for null_column in null_columns:\n",
    "    print(f\"unique values in {null_column} are : {hosp_sat[null_column].unique()}\")"
   ]
  },
  {
   "cell_type": "code",
   "execution_count": null,
   "metadata": {},
   "outputs": [],
   "source": [
    "# Let's start filling the NaN's.\n",
    "\n",
    "# Miyun_or_Electiv : we will fill them with 0's .\n",
    "hosp_sat['Miyun_or_Electiv'].fillna(0, inplace=True)\n",
    "\n",
    "# CHRONIC_2 : Here we will fill with 0's as well.\n",
    "hosp_sat['CHRONIC_2'].fillna(0, inplace=True)\n",
    "\n",
    "# HEALTH_STATUS: The values corresponding to this column are ints between 1 to 5 describing the patient's general health status. We will fill with the most frequent value.\n",
    "hosp_sat['HEALTH_STATUS'].fillna(hosp_sat['HEALTH_STATUS'].mode(), inplace=True)\n",
    "\n",
    "# Q3_G: This column is about if they were satisfied in general with the treatment in the hospital. 1 indicated they are and a 0 if 'else'. we will fill with 0's.\n",
    "hosp_sat['Q3_G'].fillna(0, inplace=True)\n",
    "\n",
    "# q31_G : if they are willing to recommend the hospital as a good place to be hospitalized. 1 means yes and the 0's are 'else'. We wil fill with 0's. \n",
    "hosp_sat['q31_G'].fillna(0, inplace=True)\n",
    "\n",
    "# KUPAT_HOLIM : it's basically the HMO in Israel. 1-4 list 4 names of the HMO's in Israel with 5 being 'else'. We will fill with 5.\n",
    "hosp_sat['KUPAT_HOLIM'].fillna(5, inplace=True)\n",
    "\n",
    "\n",
    "print(f\"Number of NaN values after filling: {hosp_sat.isnull().sum().sum()}.\")"
   ]
  },
  {
   "cell_type": "markdown",
   "metadata": {},
   "source": [
    "##### Hmm, what did we do wrong ? The number 228 is also the number of NaN's in the HEALTH_STATUS column so let's see:"
   ]
  },
  {
   "cell_type": "code",
   "execution_count": null,
   "metadata": {},
   "outputs": [],
   "source": [
    "hosp_sat['HEALTH_STATUS'].isnull().sum()"
   ]
  },
  {
   "cell_type": "code",
   "execution_count": null,
   "metadata": {},
   "outputs": [],
   "source": [
    "# Sounds like we found the culprit. Why didn't it work ? \n",
    "hosp_sat['HEALTH_STATUS'].mode()\n"
   ]
  },
  {
   "cell_type": "code",
   "execution_count": null,
   "metadata": {},
   "outputs": [],
   "source": [
    "# The mode is correct, so why not filling?\n",
    "# After a 5 seconds search on stackoverflow I found the problem. Link to it: https://stackoverflow.com/questions/42789324/how-to-pandas-fillna-with-mode-of-column\n",
    "\n",
    "hosp_sat['HEALTH_STATUS'].fillna(hosp_sat['HEALTH_STATUS'].mode()[0], inplace=True)\n",
    "\n",
    "print(f\"Number of NaN values after filling: {hosp_sat.isnull().sum().sum()}.\")"
   ]
  },
  {
   "cell_type": "markdown",
   "metadata": {},
   "source": [
    "##### Before moving on after dealing with NaN, let's make sure that the values all the columns have are valid:"
   ]
  },
  {
   "cell_type": "code",
   "execution_count": null,
   "metadata": {},
   "outputs": [],
   "source": [
    "for column in hosp_sat.columns:\n",
    "    print(f\"Unique Values in {column} column are : {hosp_sat[column].unique()}\")"
   ]
  },
  {
   "cell_type": "code",
   "execution_count": null,
   "metadata": {},
   "outputs": [],
   "source": [
    "# After double checking with the values presented in the excel sheet all of them are fine except the columns 'CHOICE' and 'code_hospital'. The column 'CHOICE' should be either 0 or 1. What is that annoying 3 we see there ? How many are they ? And the column 'code_hospital' has a duplicate value. let's start with the choice column:\n",
    "\n",
    "hosp_sat['CHOICE'].value_counts()"
   ]
  },
  {
   "cell_type": "code",
   "execution_count": null,
   "metadata": {},
   "outputs": [],
   "source": [
    "# Well, since that is a lot of 3's I can't just fill with either 0 or 1. But we also don't have a context about it. What we will do is use a fill technique that fills the 3 with the value precceding it.\n",
    "import numpy as np\n",
    "hosp_sat['CHOICE'] = hosp_sat['CHOICE'].mask(hosp_sat['CHOICE'].isin([3]),hosp_sat['CHOICE'].replace(3,np.nan).ffill())\n",
    "\n",
    "hosp_sat['CHOICE'].value_counts()"
   ]
  },
  {
   "cell_type": "code",
   "execution_count": null,
   "metadata": {},
   "outputs": [],
   "source": [
    "# If you pay close attention to the possible values for the code_hospital the values 2.7 and 27 point to the same hospital:\n",
    "\n",
    "%matplotlib inline\n",
    "from IPython.display import Image\n",
    "Image(r'C:\\Users\\armon\\OneDrive\\Desktop\\Capture.png')"
   ]
  },
  {
   "cell_type": "code",
   "execution_count": null,
   "metadata": {},
   "outputs": [],
   "source": [
    "# Let's change the 2.7 to 27:\n",
    "\n",
    "hosp_sat.loc[hosp_sat['code_hospital'] == 2.70, 'code_hospital'] = 27\n",
    "hosp_sat['code_hospital'].unique()"
   ]
  },
  {
   "cell_type": "markdown",
   "metadata": {},
   "source": [
    "##### Now it's time to populate the dataframe with the correct responses instead of the numbers while also translating the ones in Hebrew"
   ]
  },
  {
   "cell_type": "code",
   "execution_count": null,
   "metadata": {},
   "outputs": [],
   "source": [
    "# First off , the code_hospital column:\n",
    "\n",
    "conditions = [hosp_sat['code_hospital'].eq(1),hosp_sat['code_hospital'].eq(2), hosp_sat['code_hospital'].eq(3), hosp_sat['code_hospital'].eq(4),\n",
    "            hosp_sat['code_hospital'].eq(5), hosp_sat['code_hospital'].eq(6), hosp_sat['code_hospital'].eq(7), hosp_sat['code_hospital'].eq(8),\n",
    "            hosp_sat['code_hospital'].eq(9), hosp_sat['code_hospital'].eq(10), hosp_sat['code_hospital'].eq(11), hosp_sat['code_hospital'].eq(12),\n",
    "             hosp_sat['code_hospital'].eq(13),hosp_sat['code_hospital'].eq(14), hosp_sat['code_hospital'].eq(15), hosp_sat['code_hospital'].eq(16),\n",
    "            hosp_sat['code_hospital'].eq(17), hosp_sat['code_hospital'].eq(18),hosp_sat['code_hospital'].eq(19), hosp_sat['code_hospital'].eq(20),\n",
    "            hosp_sat['code_hospital'].eq(21), hosp_sat['code_hospital'].eq(22), hosp_sat['code_hospital'].eq(23),hosp_sat['code_hospital'].eq(24),\n",
    "            hosp_sat['code_hospital'].eq(25), hosp_sat['code_hospital'].eq(26), hosp_sat['code_hospital'].eq(27), hosp_sat['code_hospital'].eq(28)]\n",
    "            \n",
    "choices = ['Sheba', 'Rambam', 'Wolfson', 'Ziv', 'Hillel Yaffe', 'Galilee', 'Brazilai', 'Baruch Padeh', 'Ichilov', 'Bnai Zion', 'Beilinson', 'Soroka', 'Meir', 'Kaplan', 'Emek',\n",
    "            'Carmel','Hasharon', 'Yoseftal', 'Hadassah-Ein Karem', 'Hadassah-Mount Scopus', 'Nazareth Hospital EMMS', 'Holy Family', 'Shaare Zedek', 'Laniado',\n",
    "            'Augusta Victoria', 'Mayanei HaYeshua', 'Shamir', 'Saint Vincent De Paul']\n",
    "\n",
    "hosp_sat['code_hospital'] = np.select(conditions, choices, default=0)\n",
    "hosp_sat.head(20)"
   ]
  },
  {
   "cell_type": "code",
   "execution_count": null,
   "metadata": {},
   "outputs": [],
   "source": [
    "# Let's tackle the Gender column as well:\n",
    "\n",
    "conditions = [hosp_sat['Gender'].eq('זכר'), hosp_sat['Gender'].eq('נקבה')]\n",
    "choices = ['M', 'F']\n",
    "hosp_sat['Gender'] = np.select(conditions, choices, default=0)\n",
    "hosp_sat.sample(10)"
   ]
  },
  {
   "cell_type": "code",
   "execution_count": null,
   "metadata": {},
   "outputs": [],
   "source": [
    "# Now that you get the hang of it, I will speedrun through a few column except the questions:\n",
    "\n",
    "conditions = [hosp_sat['Code_ward'].eq(1), hosp_sat['Code_ward'].eq(2), hosp_sat['Code_ward'].eq(3)]\n",
    "choices = ['Internal', 'Surgical', 'Other']\n",
    "hosp_sat['Code_ward'] = np.select(conditions, choices, default=0)\n",
    "hosp_sat.rename({'Code_ward': 'Ward'}, axis=1, inplace=True)\n",
    "\n",
    "\n",
    "conditions = [hosp_sat['SIZE_new'].eq(1), hosp_sat['SIZE_new'].eq(2), hosp_sat['SIZE_new'].eq(3)]\n",
    "choices = ['Small', 'Medium', 'Big']\n",
    "hosp_sat['SIZE_new'] = np.select(conditions, choices, default=0)\n",
    "hosp_sat.rename({'SIZE_new': 'Hospital_size'}, axis=1, inplace=True)\n",
    "\n",
    "\n",
    "conditions = [hosp_sat['Miyun_or_Electiv'].eq(1), hosp_sat['Miyun_or_Electiv'].eq(0)]\n",
    "choices = ['Emergency hospitalization', 'Elective hospitalization']\n",
    "hosp_sat['Miyun_or_Electiv'] = np.select(conditions, choices, default=0)\n",
    "hosp_sat.rename({'Miyun_or_Electiv': 'Emergency_Or_Elective'}, axis=1, inplace=True)\n",
    "\n",
    "\n",
    "conditions = [hosp_sat['CHOICE'].eq(1), hosp_sat['CHOICE'].eq(0)]\n",
    "choices = ['Yes', 'No']\n",
    "hosp_sat['CHOICE'] = np.select(conditions, choices, default=0)\n",
    "hosp_sat.rename({'CHOICE': 'Can_Choose_Hosp'}, axis=1, inplace=True)\n",
    "\n",
    "\n",
    "conditions = [hosp_sat['corridor1'].eq(1), hosp_sat['corridor1'].eq(0)]\n",
    "choices = ['No', 'Yes']\n",
    "hosp_sat['corridor1'] = np.select(conditions, choices, default=0)\n",
    "hosp_sat.rename({'corridor1': 'Lay_Corridor'}, axis=1, inplace=True)\n",
    "\n",
    "\n",
    "conditions = [hosp_sat['CHRONIC_2'].eq(1), hosp_sat['CHRONIC_2'].eq(0)]\n",
    "choices = ['Yes', 'No']\n",
    "hosp_sat['CHRONIC_2'] = np.select(conditions, choices, default=0)\n",
    "hosp_sat.rename({'CHRONIC_2': 'Chronic'}, axis=1, inplace=True)\n",
    "\n",
    "\n",
    "conditions = [hosp_sat['HEALTH_STATUS'].eq(1), hosp_sat['HEALTH_STATUS'].eq(2), hosp_sat['HEALTH_STATUS'].eq(3), hosp_sat['HEALTH_STATUS'].eq(4), hosp_sat['HEALTH_STATUS'].eq(5)]\n",
    "choices = ['Excellent', 'Very Good', 'Good', 'Reasonable', 'Deficient']\n",
    "hosp_sat['HEALTH_STATUS'] = np.select(conditions, choices, default=0)\n",
    "\n",
    "\n",
    "conditions = [hosp_sat['KUPAT_HOLIM'].eq(1), hosp_sat['KUPAT_HOLIM'].eq(2), hosp_sat['KUPAT_HOLIM'].eq(3), hosp_sat['KUPAT_HOLIM'].eq(4), hosp_sat['KUPAT_HOLIM'].eq(5)]\n",
    "choices = ['Clalit', 'Leumit', 'Meuhedet', 'Maccabi', 'Other']\n",
    "hosp_sat['KUPAT_HOLIM'] = np.select(conditions, choices, default=0)\n",
    "\n",
    "\n",
    "conditions = [hosp_sat['baalut'].eq(1), hosp_sat['baalut'].eq(2), hosp_sat['baalut'].eq(3), hosp_sat['baalut'].eq(5)]\n",
    "choices = ['Goverment', 'Clalit', 'Hadassah', 'Public']\n",
    "hosp_sat['baalut'] = np.select(conditions, choices, default=0)\n",
    "hosp_sat.rename({'baalut': 'Hosp_Ownership'}, axis=1, inplace=True)\n",
    "\n",
    "hosp_sat.sample(10)"
   ]
  },
  {
   "cell_type": "markdown",
   "metadata": {},
   "source": [
    "##### The only things left are the questions: Changing the column title instead of Q-something to the actual question, also changing the values in each of those columns to their interpretation. After a little thinking, we will not be doing that. First off the questions themselves are very long and will take too much space. The only thing we will be doing is just change the values to each column but keep the column title as it is. I will translate them later and store in a different dataframe. Let's get started:"
   ]
  },
  {
   "cell_type": "code",
   "execution_count": null,
   "metadata": {},
   "outputs": [],
   "source": [
    "# Q3 is basically the satisfaction score from 1 to 10. No need for masking here. We will only change the column name:\n",
    "hosp_sat.rename({'Q3': 'sat_score'}, axis=1, inplace=True)\n",
    "\n",
    "\n",
    "# Q31 is if they would recommend for other to be hospitalized in that hospital. No need for masking here. We will only change the column name:\n",
    "hosp_sat.rename({'Q31': 'would_recommend'}, axis=1, inplace=True)\n",
    "\n",
    "\n",
    "# Since a lot of questions have similiar values as answers , I'd like to do them all at once, maybe use a loop. Let's group columns that have similiar values:\n",
    "# P.S : The columns we won't include in the following group is either because the values for them are completely different or because there are some values or extra values\n",
    "# that don't have the same interpretation for the same answer so we will do them seperately afterwards.\n",
    "\n",
    "group = ['Q5', 'Q6', 'Q7','Q9', 'Q10', 'Q11','Q14', 'Q15','Q17','Q21_2016', 'Q22', 'Q23', 'Q24','Q27', 'Q28']\n",
    "\n",
    "for column in group:\n",
    "    conditions = [hosp_sat[column].eq(1), hosp_sat[column].eq(2), hosp_sat[column].eq(3), hosp_sat[column].eq(4), hosp_sat[column].eq(5), hosp_sat[column].eq(99)]\n",
    "    choices = ['Very Satisfied', 'Satisfied', 'Neutral', 'Dissatisfied', 'Very Dissatisfied', 'Do not know / irrelevant']\n",
    "    hosp_sat[column] = np.select(conditions, choices, default=0)\n",
    "\n",
    "\n",
    "\n",
    "conditions = [hosp_sat['Q4'].eq(1), hosp_sat['Q4'].eq(2), hosp_sat['Q4'].eq(3), hosp_sat['Q4'].eq(4), hosp_sat['Q4'].eq(5), hosp_sat['Q4'].eq(98), hosp_sat['Q4'].eq(99)]\n",
    "choices = ['Very Satisfied', 'Satisfied', 'Neutral', 'Dissatisfied', 'Very Dissatisfied', 'Was not emergency hospitalization', 'Do not know / irrelevant']\n",
    "hosp_sat['Q4'] = np.select(conditions, choices, default=0)\n",
    "\n",
    "conditions = [hosp_sat['Q8'].eq(1), hosp_sat['Q8'].eq(2), hosp_sat['Q8'].eq(3), hosp_sat['Q8'].eq(4), hosp_sat['Q8'].eq(5), hosp_sat['Q8'].eq(6), hosp_sat['Q8'].eq(99)]\n",
    "choices = ['Very Satisfied', 'Satisfied', 'Neutral', 'Dissatisfied', 'Very Dissatisfied','Did not receive explanation', 'Do not know / irrelevant']\n",
    "hosp_sat['Q8'] = np.select(conditions, choices, default=0)\n",
    "\n",
    "conditions = [hosp_sat['Q12'].eq(1), hosp_sat['Q12'].eq(2), hosp_sat['Q12'].eq(3), hosp_sat['Q12'].eq(4), hosp_sat['Q12'].eq(5), hosp_sat['Q12'].eq(6), hosp_sat['Q12'].eq(99)]\n",
    "choices = ['Very Satisfied', 'Satisfied', 'Neutral', 'Dissatisfied', 'Very Dissatisfied','Did not receive explanation', 'Do not know / irrelevant']\n",
    "hosp_sat['Q12'] = np.select(conditions, choices, default=0)\n",
    "\n",
    "conditions = [hosp_sat['Q13'].eq(1), hosp_sat['Q13'].eq(2), hosp_sat['Q13'].eq(3), hosp_sat['Q13'].eq(4), hosp_sat['Q13'].eq(5), hosp_sat['Q13'].eq(6), hosp_sat['Q13'].eq(98), hosp_sat['Q13'].eq(99)]\n",
    "choices = ['Very Satisfied', 'Satisfied', 'Neutral', 'Dissatisfied', 'Very Dissatisfied', \"don't know/couldn't know\", \"don't know/couldn't know\", 'irrelevant']\n",
    "hosp_sat['Q13'] = np.select(conditions, choices, default=0)\n",
    "\n",
    "conditions = [hosp_sat['Q16'].eq(1), hosp_sat['Q16'].eq(2), hosp_sat['Q16'].eq(3), hosp_sat['Q16'].eq(4), hosp_sat['Q16'].eq(5), hosp_sat['Q16'].eq(98), hosp_sat['Q16'].eq(99)]\n",
    "choices = ['Very Satisfied', 'Satisfied', 'Neutral', 'Dissatisfied', 'Very Dissatisfied', \"didn't suffer / didn't want to get treatment for pain\", \"don't know\"]\n",
    "hosp_sat['Q16'] = np.select(conditions, choices, default=0)\n",
    "\n",
    "conditions = [hosp_sat['Q18'].eq(1), hosp_sat['Q18'].eq(2), hosp_sat['Q18'].eq(3), hosp_sat['Q18'].eq(4), hosp_sat['Q18'].eq(5), hosp_sat['Q18'].eq(97), hosp_sat['Q18'].eq(98), hosp_sat['Q18'].eq(99)]\n",
    "choices = ['Very Satisfied', 'Satisfied', 'Neutral', 'Dissatisfied', 'Very Dissatisfied', 'Not interested in being shared with the information', 'My medical condition did not allow for sharing', \"Don't know\"]\n",
    "hosp_sat['Q18'] = np.select(conditions, choices, default=0)\n",
    "\n",
    "conditions = [hosp_sat['Q19'].eq(1), hosp_sat['Q19'].eq(2), hosp_sat['Q19'].eq(3), hosp_sat['Q19'].eq(4), hosp_sat['Q19'].eq(5), hosp_sat['Q19'].eq(6), hosp_sat['Q19'].eq(99)]\n",
    "choices = ['Very Satisfied', 'Satisfied', 'Neutral', 'Dissatisfied', 'Very Dissatisfied', 'There were no alternatives', \"Don't know\"]\n",
    "hosp_sat['Q19'] = np.select(conditions, choices, default=0)\n",
    "\n",
    "conditions = [hosp_sat['Q20'].eq(1), hosp_sat['Q20'].eq(2), hosp_sat['Q20'].eq(3), hosp_sat['Q20'].eq(4), hosp_sat['Q20'].eq(99)]\n",
    "choices = ['Always', 'Usually Yes', 'Usually No', 'Never', \"Don't know\"]\n",
    "hosp_sat['Q20'] = np.select(conditions, choices, default=0)\n",
    "\n",
    "conditions = [hosp_sat['Q25'].eq(1), hosp_sat['Q25'].eq(2), hosp_sat['Q25'].eq(3), hosp_sat['Q25'].eq(4), hosp_sat['Q25'].eq(5), hosp_sat['Q25'].eq(6), hosp_sat['Q25'].eq(99)]\n",
    "choices = ['Very Satisfied', 'Satisfied', 'Neutral', 'Dissatisfied', 'Very Dissatisfied','Did not receive explanation', 'Do not know']\n",
    "hosp_sat['Q25'] = np.select(conditions, choices, default=0)\n",
    "\n",
    "conditions = [hosp_sat['Q26'].eq(1), hosp_sat['Q26'].eq(2), hosp_sat['Q26'].eq(3), hosp_sat['Q26'].eq(4), hosp_sat['Q26'].eq(99)]\n",
    "choices = ['Always', 'Usually Yes', 'Usually No', 'Never', \"Don't know\"]\n",
    "hosp_sat['Q26'] = np.select(conditions, choices, default=0)\n",
    "\n",
    "conditions = [hosp_sat['Q29'].eq(1), hosp_sat['Q29'].eq(2), hosp_sat['Q29'].eq(3), hosp_sat['Q29'].eq(4), hosp_sat['Q29'].eq(5), hosp_sat['Q29'].eq(98), hosp_sat['Q29'].eq(99)]\n",
    "choices = ['Very Satisfied', 'Satisfied', 'Neutral', 'Dissatisfied', 'Very Dissatisfied', \"Didn't eat the hospital food\", \"Don't know / irrelevant\"]\n",
    "hosp_sat['Q29'] = np.select(conditions, choices, default=0)\n",
    "hosp_sat.rename({'Q29': 'Hospital_food'}, axis=1, inplace=True)\n",
    "\n",
    "\n",
    "conditions = [hosp_sat['Q30'].eq(1), hosp_sat['Q30'].eq(2), hosp_sat['Q30'].eq(3), hosp_sat['Q30'].eq(4), hosp_sat['Q30'].eq(5), hosp_sat['Q30'].eq(98), hosp_sat['Q30'].eq(99)]\n",
    "choices = ['Very Satisfied', 'Satisfied', 'Neutral', 'Dissatisfied', 'Very Dissatisfied', 'Had no companions', \"Don't know\"]\n",
    "hosp_sat['Q30'] = np.select(conditions, choices, default=0)\n",
    "\n",
    "conditions = [hosp_sat['Q33'].eq(1), hosp_sat['Q33'].eq(2), hosp_sat['Q33'].eq(3), hosp_sat['Q33'].eq(4), hosp_sat['Q33'].eq(5), hosp_sat['Q33'].eq(6), hosp_sat['Q33'].eq(99)]\n",
    "choices = ['Hebrew', 'English', 'Arabic', 'Russian', 'Amharic', 'Other', 'Refused to answer']\n",
    "hosp_sat['Q33'] = np.select(conditions, choices, default=0)\n",
    "hosp_sat.rename({'Q33': 'Language'}, axis=1, inplace=True)\n",
    "\n",
    "conditions = [hosp_sat['Q34'].eq(1), hosp_sat['Q34'].eq(2), hosp_sat['Q34'].eq(3)]\n",
    "choices = ['Entirety', 'Partly', 'At all']\n",
    "hosp_sat['Q34'] = np.select(conditions, choices, default=0)\n",
    "hosp_sat.rename({'Q34': 'corridor_stay'}, axis=1, inplace=True) # and since we have another column called Lay_Corridor let's drop that one\n",
    "hosp_sat.drop('Lay_Corridor', axis=1, inplace=True)\n",
    "\n",
    "conditions = [hosp_sat['Q36'].eq(1), hosp_sat['Q36'].eq(2), hosp_sat['Q36'].eq(3), hosp_sat['Q36'].eq(4), hosp_sat['Q36'].eq(5), hosp_sat['Q36'].eq(6), hosp_sat['Q36'].eq(7)]\n",
    "choices = ['Alone', 'With Family Member', 'Home with a caregiver', 'At Family member', 'Assisted living/nursing home', 'Nursing facility/rehabilitation center', 'Refused to answer']\n",
    "hosp_sat['Q36'] = np.select(conditions, choices, default=0)\n",
    "hosp_sat.rename({'Q36': 'Recently_lived_with'}, axis=1, inplace=True)\n",
    "\n",
    "conditions = [hosp_sat['Q37'].eq(1), hosp_sat['Q37'].eq(2), hosp_sat['Q37'].eq(3), hosp_sat['Q37'].eq(4), hosp_sat['Q37'].eq(5), hosp_sat['Q37'].eq(6)]\n",
    "choices = ['Jewish', 'Muslim', 'Christian', 'Druze', 'Other', 'Refused to answer']\n",
    "hosp_sat['Q37'] = np.select(conditions, choices, default=0)\n",
    "hosp_sat.rename({'Q37': 'Religion'}, axis=1, inplace=True)\n",
    "\n",
    "\n",
    "#############################################\n",
    "# Let's see if all our hard work paid off :\n",
    "hosp_sat.sample(20)"
   ]
  },
  {
   "cell_type": "code",
   "execution_count": null,
   "metadata": {},
   "outputs": [],
   "source": [
    "# Columns Q3_G and q31_G are redundant , let's drop them:\n",
    "hosp_sat.drop('Q3_G', axis=1, inplace=True)\n",
    "hosp_sat.drop('q31_G', axis=1, inplace=True)\n",
    "\n",
    "hosp_sat.shape"
   ]
  },
  {
   "cell_type": "markdown",
   "metadata": {},
   "source": [
    "##### By now we already dealt with the NaN's , made sure all our entries are valid, translated what we needed to, populated with the answer itself instead of it's number, dropped the irrelevant columns. Last thing, I will check again what are the datatypes of the columns to make sure it's ok before moving it to Tableau."
   ]
  },
  {
   "cell_type": "code",
   "execution_count": null,
   "metadata": {},
   "outputs": [],
   "source": [
    "hosp_sat.info()"
   ]
  },
  {
   "cell_type": "code",
   "execution_count": null,
   "metadata": {},
   "outputs": [],
   "source": [
    "# Final touch-ups \n",
    "\n",
    "# rename code_hospital to Hospital:\n",
    "hosp_sat.rename({'code_hospital': 'HOSPITAL'}, axis=1, inplace=True)\n",
    "\n",
    "# convert sat_score and would_recommend because they are categorical data: \n",
    "hosp_sat['sat_score'] = hosp_sat['sat_score'].astype('object')\n",
    "hosp_sat['would_recommend'] = hosp_sat['would_recommend'].astype('object')\n",
    "\n",
    "print(hosp_sat['sat_score'].dtype)\n",
    "print(hosp_sat['would_recommend'].dtype)"
   ]
  },
  {
   "cell_type": "markdown",
   "metadata": {},
   "source": [
    "##### Now that have cleaned our data and transformed it into the way we want it to be, let's save it as a xlsx file to use later in Tableau."
   ]
  },
  {
   "cell_type": "code",
   "execution_count": null,
   "metadata": {},
   "outputs": [],
   "source": [
    "hosp_sat.to_excel('hosp_sat.xlsx')"
   ]
  },
  {
   "cell_type": "markdown",
   "metadata": {},
   "source": [
    "#### **Step IV + V : Exploratory Data Analysis & Visualization**"
   ]
  },
  {
   "cell_type": "code",
   "execution_count": null,
   "metadata": {},
   "outputs": [],
   "source": [
    "# Before continuing let's translate the questions and add in a dataframe so it would be easier for you to follow up:\n",
    "\n",
    "pd.options.display.max_colwidth = 300\n",
    "\n",
    "\n",
    "questions = {'Question':\n",
    "            ['Q4', 'Q5', 'Q6', 'Q7', 'Q8', 'Q9', 'Q10', 'Q11', 'Q12', 'Q13', 'Q14', 'Q15','Q16','Q17', 'Q18', 'Q19','Q20', 'Q21_2016', 'Q22', 'Q23', 'Q24', 'Q25', 'Q26', 'Q27', 'Q28', 'Q30'],\n",
    "\n",
    "            'Translation': [\n",
    "            \"If you were hospitalized through the emergency room, to what extent were you satisfied with the care you received?\",\n",
    "            \"From the moment you arrived at the ward, to what extent was the admission process conducted efficiently?\",\n",
    "            \"During your last hospitalization, to what extent did you feel that the nurses treated you with kindness and respect?\",\n",
    "            \"To what extent did the nurses listen to you and address your questions and concerns?\",\n",
    "            \"To what extent were the explanations you received during hospitalization from the nurses clear and understandable to you?\",\n",
    "            \"During your last hospitalization, to what extent did you feel that the doctors treated you with kindness and respect?\",\n",
    "            \"To what extent during the doctors visit did you feel that you were treated personally?\",\n",
    "            \"To what extent did the doctors listen to you and address your questions and concerns?\",\n",
    "            \"To what extent were the explanations you received during hospitalization from the doctors clear and understandable to you?\", \n",
    "            \"To what extent did you feel that the staff treating you at the hospital knew your medical condition before hospitalization?\",\n",
    "            \"To what extent were the explanations given to you during the hospitalization initiated by the ward staff?\",\n",
    "            \"To what extent did you feel that the department staff worked in coordination and cooperation (among themselves) in everything related to your care? (For example, transferring information from one to another, implementing the doctors' recommendations)\",\n",
    "            \"To what extent did you feel that the staff addressed your pain or other symptoms such as nausea or dizziness, and helped you deal with them?\",\n",
    "            \"To what extent did you feel that the care team works to maintain your safety to prevent medical errors in cases such as identifying a patient sensitivity to medications, preventing falls, etc.?\",\n",
    "            \"To what extent did you feel that you were shared with the therapeutic options, to the extent that you were interested? That is, you were involved in the decisions, and your preferences were taken into account.\",\n",
    "            \"To what extent did you feel that additional treatment methods / therapeutic alternatives were presented to you?\",\n",
    "            \"During the last hospitalization, did you feel that you knew what the next step in hospital treatment was?\",\n",
    "            \"To what extent did you feel that you received an answer to your requests and needs easily and without the need to make an effort?\",\n",
    "            \"To what extent did you feel during the hospitalization that you were treated in good hands?\",\n",
    "            \"To what extent was the discharge process from the hospital conducted efficiently?\",\n",
    "            \"At the time of discharge from the hospital, to what extent did you receive an explanation summarizing your medical problem and the treatment you were given?\",\n",
    "            \"To what extent were the explanations and instructions for further treatment clear and understandable to you? This refers to explanations regarding the medical problem for which you were hospitalized, the treatment given to you, unusual symptoms to be aware of and medications you must take.\",\n",
    "            \"Were the room and bathroom clean?\",\n",
    "            \"To what extent are you satisfied with the conditions in the room where you were hospitalized? (air conditioning, bed, mattress...)\",\n",
    "            \"During the hospitalization, to what extent was it quiet at night in your room and in your surroundings?\",\n",
    "            \"To what extent were the conditions available to your companions and visitors comfortable and adequate?\"]\n",
    "            }\n",
    "\n",
    "questions_df = pd.DataFrame(questions)\n",
    "questions_df"
   ]
  },
  {
   "cell_type": "markdown",
   "metadata": {},
   "source": [
    "##### let's start with seeing which hospital got the more patients:"
   ]
  },
  {
   "cell_type": "code",
   "execution_count": null,
   "metadata": {},
   "outputs": [],
   "source": [
    "import matplotlib.pylab as plt\n",
    "import seaborn as sns \n",
    "\n",
    "plt.figure(figsize=(13,8))\n",
    "ax = sns.countplot(y=hosp_sat[\"HOSPITAL\"], hue=hosp_sat['Hospital_size'], order = hosp_sat['HOSPITAL'].value_counts().index, dodge=False, palette='GnBu_r');\n",
    "for label in ax.containers:\n",
    "    ax.bar_label(label);\n",
    "ax;"
   ]
  },
  {
   "cell_type": "markdown",
   "metadata": {},
   "source": [
    "##### How many male and female patients did we have ?"
   ]
  },
  {
   "cell_type": "code",
   "execution_count": null,
   "metadata": {},
   "outputs": [],
   "source": [
    "hosp_sat.Gender.value_counts()"
   ]
  },
  {
   "cell_type": "markdown",
   "metadata": {},
   "source": [
    "##### The average age among patients :"
   ]
  },
  {
   "cell_type": "code",
   "execution_count": null,
   "metadata": {},
   "outputs": [],
   "source": [
    "hosp_sat.AGE_TODAY.mean().__round__(2)"
   ]
  },
  {
   "cell_type": "markdown",
   "metadata": {},
   "source": [
    "##### Is the average age similiar when seperated by gender ?"
   ]
  },
  {
   "cell_type": "code",
   "execution_count": null,
   "metadata": {},
   "outputs": [],
   "source": [
    "hosp_sat.groupby('Gender', as_index=False)['AGE_TODAY'].mean().__round__(2)"
   ]
  },
  {
   "cell_type": "markdown",
   "metadata": {},
   "source": [
    "##### Which ward had the most patients :"
   ]
  },
  {
   "cell_type": "code",
   "execution_count": null,
   "metadata": {},
   "outputs": [],
   "source": [
    "ax = sns.countplot(x=hosp_sat['Ward'], palette='GnBu_r');\n",
    "ax.bar_label(ax.containers[0]);\n",
    "ax.get_yaxis().set_visible(False)\n",
    "ax.spines['top'].set_visible(False)\n",
    "ax.spines['right'].set_visible(False)\n",
    "ax.spines['left'].set_visible(False)"
   ]
  },
  {
   "cell_type": "markdown",
   "metadata": {},
   "source": [
    "##### Health status & Chronic conditions:"
   ]
  },
  {
   "cell_type": "code",
   "execution_count": null,
   "metadata": {},
   "outputs": [],
   "source": [
    "sns.violinplot(x=hosp_sat[\"Chronic\"], y=hosp_sat[\"AGE_TODAY\"]);"
   ]
  },
  {
   "cell_type": "markdown",
   "metadata": {},
   "source": [
    "##### Kupat Holim :"
   ]
  },
  {
   "cell_type": "code",
   "execution_count": null,
   "metadata": {},
   "outputs": [],
   "source": [
    "hosp_sat['KUPAT_HOLIM'].value_counts()"
   ]
  },
  {
   "cell_type": "code",
   "execution_count": null,
   "metadata": {},
   "outputs": [],
   "source": [
    "# Data\n",
    "names = hosp_sat['KUPAT_HOLIM'].value_counts().index\n",
    "size = hosp_sat['KUPAT_HOLIM'].value_counts()\n",
    " \n",
    "# create a figure and set different background\n",
    "fig = plt.figure(figsize=(8,8))\n",
    "fig.patch.set_facecolor('white')\n",
    " \n",
    "# Change color of text\n",
    "plt.rcParams['text.color'] = 'black'\n",
    " \n",
    "# Create a circle at the center of the plot\n",
    "my_circle=plt.Circle( (0,0), 0.7, color='white')\n",
    " \n",
    "# Pieplot + circle on it\n",
    "plt.pie(size, labels=names)\n",
    "p=plt.gcf()\n",
    "p.gca().add_artist(my_circle)\n",
    "plt.title('Kupat Holim')\n",
    "plt.show()"
   ]
  },
  {
   "cell_type": "markdown",
   "metadata": {},
   "source": [
    "##### Language and it's relation to the satisfaction score:"
   ]
  },
  {
   "cell_type": "code",
   "execution_count": null,
   "metadata": {},
   "outputs": [],
   "source": [
    "plt.figure(figsize=(15,8))\n",
    "sns.countplot(x=hosp_sat['Language'], hue=hosp_sat['sat_score']);\n",
    "plt.legend(loc='upper left');"
   ]
  },
  {
   "cell_type": "code",
   "execution_count": null,
   "metadata": {},
   "outputs": [],
   "source": [
    "hosp_sat['Language'].value_counts()"
   ]
  },
  {
   "cell_type": "markdown",
   "metadata": {},
   "source": [
    "##### Let's check a few questions as well, starting with question Q13 : *To what extent did you feel that the staff treating you at the hospital knew your medical condition before hospitalization?*\n"
   ]
  },
  {
   "cell_type": "code",
   "execution_count": null,
   "metadata": {},
   "outputs": [],
   "source": [
    "plt.figure(figsize=(8,8))\n",
    "sns.countplot(y=hosp_sat['Q13']);"
   ]
  },
  {
   "cell_type": "markdown",
   "metadata": {},
   "source": [
    "##### Q16 : *To what extent did you feel that the staff addressed your pain or other symptoms such as nausea or dizziness, and helped you deal with them?*"
   ]
  },
  {
   "cell_type": "code",
   "execution_count": null,
   "metadata": {},
   "outputs": [],
   "source": [
    "plt.figure(figsize=(10,8))\n",
    "ax = sns.countplot(y=hosp_sat['Q16']);\n",
    "ax.bar_label(ax.containers[0]);\n",
    "ax.get_xaxis().set_visible(False)\n",
    "ax.spines['top'].set_visible(False)\n",
    "ax.spines['right'].set_visible(False)\n",
    "ax.spines['bottom'].set_visible(False)\n",
    "ax;"
   ]
  },
  {
   "cell_type": "markdown",
   "metadata": {},
   "source": [
    "##### Q24: *At the time of discharge from the hospital, to what extent did you receive an explanation summarizing your medical problem and the treatment you were given?*"
   ]
  },
  {
   "cell_type": "code",
   "execution_count": null,
   "metadata": {},
   "outputs": [],
   "source": [
    "sns.countplot(y=hosp_sat['Q24']);"
   ]
  },
  {
   "cell_type": "markdown",
   "metadata": {},
   "source": [
    "#### **That's about it for this notebook. Now it's time to grab the excel file we saved earlier after cleaning the data and go to Tableau to build a dashboard.**"
   ]
  }
 ],
 "metadata": {
  "kernelspec": {
   "display_name": "Python 3",
   "language": "python",
   "name": "python3"
  },
  "language_info": {
   "codemirror_mode": {
    "name": "ipython",
    "version": 3
   },
   "file_extension": ".py",
   "mimetype": "text/x-python",
   "name": "python",
   "nbconvert_exporter": "python",
   "pygments_lexer": "ipython3",
   "version": "3.11.0 (main, Oct 24 2022, 18:26:48) [MSC v.1933 64 bit (AMD64)]"
  },
  "orig_nbformat": 4,
  "vscode": {
   "interpreter": {
    "hash": "7d0c8218788dc8dbd65e3103d30cb0d10386f171627571ab1cd9e9954111b535"
   }
  }
 },
 "nbformat": 4,
 "nbformat_minor": 2
}
